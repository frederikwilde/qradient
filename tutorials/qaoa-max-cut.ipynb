{
 "cells": [
  {
   "cell_type": "code",
   "execution_count": null,
   "metadata": {},
   "outputs": [],
   "source": [
    "%matplotlib inline\n",
    "import numpy as np\n",
    "from tqdm import tnrange\n",
    "import sys\n",
    "sys.path.append('../')\n",
    "from qradient.circuit_logic import Qaoa\n",
    "from qradient.optimization_problems import MaxCut\n",
    "import matplotlib.pyplot as plt"
   ]
  },
  {
   "cell_type": "code",
   "execution_count": null,
   "metadata": {},
   "outputs": [],
   "source": [
    "qnum, lnum = 5, 10\n",
    "edge_num = 6"
   ]
  },
  {
   "cell_type": "code",
   "execution_count": null,
   "metadata": {},
   "outputs": [],
   "source": [
    "problem = MaxCut(qnum, edge_num)\n",
    "problem.plot()"
   ]
  },
  {
   "cell_type": "code",
   "execution_count": null,
   "metadata": {},
   "outputs": [],
   "source": [
    "circuit = Qaoa(qnum, problem.to_observable(), lnum)\n",
    "betas, gammas = np.random.rand(lnum), np.random.rand(lnum)"
   ]
  },
  {
   "cell_type": "code",
   "execution_count": null,
   "metadata": {
    "scrolled": false
   },
   "outputs": [],
   "source": [
    "# simply run the circuit\n",
    "circuit.run_expec_val(betas, gammas)"
   ]
  },
  {
   "cell_type": "code",
   "execution_count": null,
   "metadata": {},
   "outputs": [],
   "source": [
    "# evaluate the gradient\n",
    "e, g = circuit.grad_run(betas, gammas)\n",
    "print(e)"
   ]
  },
  {
   "cell_type": "code",
   "execution_count": null,
   "metadata": {},
   "outputs": [],
   "source": [
    "# a manual test to make sure the gradient is correct\n",
    "eps = 10.**-8\n",
    "dbetas, dgammas = [], []\n",
    "for i in range(lnum):\n",
    "    betas[i] += eps\n",
    "    d2 = circuit.run_expec_val(betas, gammas)\n",
    "    betas[i] -= 2*eps\n",
    "    d1 = circuit.run_expec_val(betas, gammas)\n",
    "    betas[i] += eps\n",
    "    dbetas.append((d2-d1)*.5/eps)\n",
    "    gammas[i] += eps\n",
    "    d2 = circuit.run_expec_val(betas, gammas)\n",
    "    gammas[i] -= 2*eps\n",
    "    d1 = circuit.run_expec_val(betas, gammas)\n",
    "    gammas[i] += eps\n",
    "    dgammas.append((d2-d1)*.5/eps)\n",
    "print(np.linalg.norm(np.array(dbetas)-g[:, 0]))\n",
    "print(np.linalg.norm(np.array(dgammas)-g[:, 1]))"
   ]
  },
  {
   "cell_type": "markdown",
   "metadata": {},
   "source": [
    "## Random problems and groundstate energies"
   ]
  },
  {
   "cell_type": "code",
   "execution_count": null,
   "metadata": {},
   "outputs": [],
   "source": [
    "mins = []\n",
    "for _ in tnrange(100):\n",
    "    problem = MaxCut(qnum, edge_num)\n",
    "    circuit = Qaoa(qnum, problem.to_observable(), lnum)\n",
    "    mins.append(min(circuit.state.gates.classical_ham))"
   ]
  },
  {
   "cell_type": "code",
   "execution_count": null,
   "metadata": {},
   "outputs": [],
   "source": [
    "plt.plot(mins, '.')\n",
    "plt.show()"
   ]
  },
  {
   "cell_type": "code",
   "execution_count": null,
   "metadata": {},
   "outputs": [],
   "source": []
  }
 ],
 "metadata": {
  "kernelspec": {
   "display_name": "Python 3",
   "language": "python",
   "name": "python3"
  },
  "language_info": {
   "codemirror_mode": {
    "name": "ipython",
    "version": 3
   },
   "file_extension": ".py",
   "mimetype": "text/x-python",
   "name": "python",
   "nbconvert_exporter": "python",
   "pygments_lexer": "ipython3",
   "version": "3.7.2"
  }
 },
 "nbformat": 4,
 "nbformat_minor": 2
}
