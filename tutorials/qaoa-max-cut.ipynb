{
 "cells": [
  {
   "cell_type": "code",
   "execution_count": 1,
   "metadata": {},
   "outputs": [],
   "source": [
    "%matplotlib inline\n",
    "import numpy as np\n",
    "from tqdm import tnrange\n",
    "import sys\n",
    "sys.path.append('../')\n",
    "from qradient.circuit_logic import Qaoa\n",
    "from qradient.optimization import QaoaOpt\n",
    "from qradient.optimization_problems import MaxCut\n",
    "import matplotlib.pyplot as plt"
   ]
  },
  {
   "cell_type": "code",
   "execution_count": 2,
   "metadata": {},
   "outputs": [],
   "source": [
    "qnum, lnum = 3, 5\n",
    "edge_num = 3"
   ]
  },
  {
   "cell_type": "code",
   "execution_count": 3,
   "metadata": {},
   "outputs": [
    {
     "data": {
      "image/png": "[encoded data removed]",
      "text/plain": [
       "<Figure size 288x288 with 1 Axes>"
      ]
     },
     "metadata": {},
     "output_type": "display_data"
    }
   ],
   "source": [
    "problem = MaxCut(qnum, edge_num)\n",
    "problem.plot()"
   ]
  },
  {
   "cell_type": "code",
   "execution_count": null,
   "metadata": {},
   "outputs": [],
   "source": [
    "circuit = Qaoa(qnum, problem.to_observable(), lnum)\n",
    "betas, gammas = np.random.rand(lnum), np.random.rand(lnum)"
   ]
  },
  {
   "cell_type": "code",
   "execution_count": null,
   "metadata": {
    "scrolled": false
   },
   "outputs": [],
   "source": [
    "# simply run the circuit\n",
    "circuit.run_expec_val(betas, gammas)"
   ]
  },
  {
   "cell_type": "code",
   "execution_count": null,
   "metadata": {},
   "outputs": [],
   "source": [
    "# evaluate the gradient\n",
    "e, g = circuit.grad_run(betas, gammas)\n",
    "print(e)"
   ]
  },
  {
   "cell_type": "code",
   "execution_count": null,
   "metadata": {},
   "outputs": [],
   "source": [
    "# a manual test to make sure the gradient is correct\n",
    "eps = 10.**-8\n",
    "dbetas, dgammas = [], []\n",
    "for i in range(lnum):\n",
    "    betas[i] += eps\n",
    "    d2 = circuit.run_expec_val(betas, gammas)\n",
    "    betas[i] -= 2*eps\n",
    "    d1 = circuit.run_expec_val(betas, gammas)\n",
    "    betas[i] += eps\n",
    "    dbetas.append((d2-d1)*.5/eps)\n",
    "    gammas[i] += eps\n",
    "    d2 = circuit.run_expec_val(betas, gammas)\n",
    "    gammas[i] -= 2*eps\n",
    "    d1 = circuit.run_expec_val(betas, gammas)\n",
    "    gammas[i] += eps\n",
    "    dgammas.append((d2-d1)*.5/eps)\n",
    "print(np.linalg.norm(np.array(dbetas)-g[:, 0]))\n",
    "print(np.linalg.norm(np.array(dgammas)-g[:, 1]))"
   ]
  },
  {
   "cell_type": "code",
   "execution_count": null,
   "metadata": {},
   "outputs": [],
   "source": [
    "# sampling the gradient\n",
    "es, gs = circuit.sample_grad_dense(betas, gammas, shot_num=100, exact_expec_val=False)\n",
    "print(es)"
   ]
  },
  {
   "cell_type": "code",
   "execution_count": null,
   "metadata": {},
   "outputs": [],
   "source": [
    "# checking that it gives the exact gradient in the limit shot_num=inf\n",
    "exps = []\n",
    "grads = []\n",
    "shot_nums = (10**np.arange(1, 5, .1)).astype('int')\n",
    "for s in shot_nums:\n",
    "    print(s, end='\\r')\n",
    "    np.random.seed(0)\n",
    "    e1, g1 = circuit.sample_grad_dense(betas, gammas, shot_num=s, exact_expec_val=False)\n",
    "    exps.append(abs(e1 - e))\n",
    "    grads.append(np.linalg.norm((g1 - g).flatten()))\n",
    "plt.plot(shot_nums, exps, '.-')\n",
    "plt.plot(shot_nums, grads, '.-')\n",
    "plt.loglog()\n",
    "plt.show()"
   ]
  },
  {
   "cell_type": "markdown",
   "metadata": {},
   "source": [
    "## Random problems and groundstate energies"
   ]
  },
  {
   "cell_type": "code",
   "execution_count": null,
   "metadata": {},
   "outputs": [],
   "source": [
    "mins = []\n",
    "for _ in tnrange(100):\n",
    "    problem = MaxCut(qnum, edge_num)\n",
    "    circuit = Qaoa(qnum, problem.to_observable(), lnum)\n",
    "    mins.append(min(circuit.state.gates.classical_ham))"
   ]
  },
  {
   "cell_type": "code",
   "execution_count": null,
   "metadata": {},
   "outputs": [],
   "source": [
    "plt.plot(mins, '.')\n",
    "plt.show()"
   ]
  },
  {
   "cell_type": "markdown",
   "metadata": {},
   "source": [
    "## Optimization "
   ]
  },
  {
   "cell_type": "code",
   "execution_count": null,
   "metadata": {},
   "outputs": [],
   "source": [
    "optimizer = {'name': 'Adam'}\n",
    "opt = QaoaOpt(circuit, optimizer, betas, gammas)"
   ]
  },
  {
   "cell_type": "code",
   "execution_count": null,
   "metadata": {},
   "outputs": [],
   "source": [
    "opt.reset()\n",
    "for i in tnrange(200):\n",
    "    opt.step(shot_num=0)"
   ]
  },
  {
   "cell_type": "code",
   "execution_count": null,
   "metadata": {},
   "outputs": [],
   "source": [
    "plt.figure(figsize=(15, 4))\n",
    "plt.subplot(1,3,1)\n",
    "plt.plot(opt.cost_history[:opt.iter])\n",
    "plt.title('Cost')\n",
    "plt.subplot(1,3,2)\n",
    "plt.plot(opt.param_history[:opt.iter,:,0])\n",
    "plt.title('Betas')\n",
    "plt.subplot(1,3,3)\n",
    "plt.plot(opt.param_history[:opt.iter,:,1])\n",
    "plt.title('Gammas')\n",
    "plt.show()"
   ]
  },
  {
   "cell_type": "code",
   "execution_count": null,
   "metadata": {},
   "outputs": [],
   "source": []
  }
 ],
 "metadata": {
  "kernelspec": {
   "display_name": "Python 3",
   "language": "python",
   "name": "python3"
  },
  "language_info": {
   "codemirror_mode": {
    "name": "ipython",
    "version": 3
   },
   "file_extension": ".py",
   "mimetype": "text/x-python",
   "name": "python",
   "nbconvert_exporter": "python",
   "pygments_lexer": "ipython3",
   "version": "3.7.2"
  }
 },
 "nbformat": 4,
 "nbformat_minor": 2
}
