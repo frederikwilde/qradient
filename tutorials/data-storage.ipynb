{
 "cells": [
  {
   "cell_type": "code",
   "execution_count": 192,
   "metadata": {},
   "outputs": [],
   "source": [
    "from qradient.data_storage import Data\n",
    "import numpy as np"
   ]
  },
  {
   "cell_type": "markdown",
   "metadata": {},
   "source": [
    "A ```Data``` object can be instantiated easily:"
   ]
  },
  {
   "cell_type": "code",
   "execution_count": 193,
   "metadata": {},
   "outputs": [],
   "source": [
    "title = 'Dummy Data'\n",
    "dummydata = Data(title)"
   ]
  },
  {
   "cell_type": "markdown",
   "metadata": {},
   "source": [
    "It contains two dictionaries:\n",
    "\n",
    "```meta```: Here you can store meta information about the data.\n",
    "This will be JSON serialized upon export and will therefore remain human-readable.\n",
    "\n",
    "```data```: All its values will be pickled, so that any Python object can be stored\n",
    "e.g. a numpy.ndarray or double-precision numbers."
   ]
  },
  {
   "cell_type": "code",
   "execution_count": 194,
   "metadata": {},
   "outputs": [],
   "source": [
    "dummydata.meta['important_info'] = 'This is an important message about the dummy data!'\n",
    "dummydata.data['data_series_1'] = [1, 2, 3]\n",
    "dummydata.data['data_series_2'] = [1j*np.random.rand(2) for i in range(2)]"
   ]
  },
  {
   "cell_type": "markdown",
   "metadata": {},
   "source": [
    "Let's export it to files now."
   ]
  },
  {
   "cell_type": "code",
   "execution_count": 195,
   "metadata": {
    "scrolled": true
   },
   "outputs": [],
   "source": [
    "dummydata.export('data/dummydata') # the directory 'data' must exist"
   ]
  },
  {
   "cell_type": "markdown",
   "metadata": {},
   "source": [
    "Go ahead and have a look at the directory ```data```."
   ]
  },
  {
   "cell_type": "markdown",
   "metadata": {},
   "source": [
    "Now we reimport it:"
   ]
  },
  {
   "cell_type": "code",
   "execution_count": 196,
   "metadata": {},
   "outputs": [],
   "source": [
    "reimported = Data.load('data/dummydata')"
   ]
  },
  {
   "cell_type": "markdown",
   "metadata": {},
   "source": [
    "The output is again a ```Data``` object."
   ]
  },
  {
   "cell_type": "code",
   "execution_count": 197,
   "metadata": {},
   "outputs": [
    {
     "name": "stdout",
     "output_type": "stream",
     "text": [
      "<vqe_regularization_scratch.data_storage.Data object at 0x1105dd198>\n"
     ]
    }
   ],
   "source": [
    "print(reimported) # again a Data object"
   ]
  },
  {
   "cell_type": "markdown",
   "metadata": {},
   "source": [
    "Finally, let's check that the content is the same."
   ]
  },
  {
   "cell_type": "code",
   "execution_count": 198,
   "metadata": {},
   "outputs": [
    {
     "name": "stdout",
     "output_type": "stream",
     "text": [
      "{'title': 'Dummy Data', 'important_info': 'This is an important message about the dummy data!', 'export_time_utc': '2019-08-02 13:49:30.207164'}\n",
      "{'data_series_1': [1, 2, 3], 'data_series_2': [array([0.+0.80662022j, 0.+0.18884632j]), array([0.+0.12573686j, 0.+0.80032558j])]}\n"
     ]
    }
   ],
   "source": [
    "print(reimported.meta)\n",
    "print(reimported.data)"
   ]
  },
  {
   "cell_type": "code",
   "execution_count": null,
   "metadata": {},
   "outputs": [],
   "source": []
  }
 ],
 "metadata": {
  "kernelspec": {
   "display_name": "Python 3",
   "language": "python",
   "name": "python3"
  },
  "language_info": {
   "codemirror_mode": {
    "name": "ipython",
    "version": 3
   },
   "file_extension": ".py",
   "mimetype": "text/x-python",
   "name": "python",
   "nbconvert_exporter": "python",
   "pygments_lexer": "ipython3",
   "version": "3.5.3"
  }
 },
 "nbformat": 4,
 "nbformat_minor": 2
}
