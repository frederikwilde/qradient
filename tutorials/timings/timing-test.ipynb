{
 "cells": [
  {
   "cell_type": "code",
   "execution_count": 1,
   "metadata": {},
   "outputs": [],
   "source": [
    "%matplotlib inline\n",
    "from importlib import reload\n",
    "import scipy.sparse as sp\n",
    "from scipy import stats\n",
    "import numpy as np\n",
    "from time import time\n",
    "from tqdm import tqdm_notebook, tnrange\n",
    "import sys\n",
    "sys.path.append('../../')\n",
    "import gc\n",
    "import matplotlib.pyplot as plt\n",
    "import qradient\n",
    "from qradient.physical_components import Gates, State, Observable\n",
    "from qradient.circuit_logic import McClean, Qaoa\n",
    "from qradient.optimization_problems import MaxCut\n",
    "from qradient import optimization\n",
    "reload(qradient.optimization)\n",
    "reload(qradient.circuit_logic)\n",
    "reload(qradient.physical_components)\n",
    "p = np.pi"
   ]
  },
  {
   "cell_type": "code",
   "execution_count": null,
   "metadata": {},
   "outputs": [],
   "source": [
    "# McClean\n",
    "times = []\n",
    "qnums = np.arange(2, 10)\n",
    "for q in qnums:\n",
    "    print(q, end='\\r')\n",
    "    sys.stdout.flush()\n",
    "    qnum, lnum = q, 100\n",
    "    # construct observable\n",
    "    zz = np.full([qnum, qnum], None)\n",
    "    zz[0, 1] = 1.\n",
    "    observable = {'zz': zz}\n",
    "    crct = McClean(qnum, observable, lnum)\n",
    "    t1 = time()\n",
    "    e, g = crct.sample_grad_observable(hide_progbar=True)\n",
    "    t2 = time()\n",
    "    times.append(t2-t1)"
   ]
  },
  {
   "cell_type": "code",
   "execution_count": null,
   "metadata": {},
   "outputs": [],
   "source": [
    "# Qaoa\n",
    "upper_limit = 20\n",
    "times = []\n",
    "qnums = np.arange(2, upper_limit)\n",
    "edge_nums = [int((i-1)*i/2) for i in range(2, upper_limit)]\n",
    "for i, q in enumerate(qnums):\n",
    "    print(q, end='\\r')\n",
    "    qnum, lnum = q, 100\n",
    "    # construct observable\n",
    "    problem = MaxCut(qnum, edge_nums[i])\n",
    "    observable = problem.to_observable()\n",
    "    crct = Qaoa(qnum, observable, lnum)\n",
    "    t1 = time()\n",
    "    e, g = crct.grad_run(np.random.rand(lnum), np.random.rand(lnum))\n",
    "    t2 = time()\n",
    "    times.append(t2-t1)"
   ]
  },
  {
   "cell_type": "code",
   "execution_count": null,
   "metadata": {},
   "outputs": [],
   "source": [
    "plt.plot(\n",
    "    qnums,\n",
    "    times,\n",
    "    '.-'\n",
    ")\n",
    "plt.plot(\n",
    "    np.arange(2, 20),\n",
    "    [0.01623821258544922, 0.018561124801635742, 0.016151905059814453, 0.01742696762084961, 0.021567106246948242, 0.03242802619934082, 0.03208589553833008, 0.03959918022155762, 0.055787086486816406, 0.10172414779663086, 0.16817522048950195, 0.2690119743347168, 0.49256396293640137, 1.024388074874878, 2.0767130851745605, 6.029428958892822, 14.512172222137451, 30.30225110054016],\n",
    "    '.-'\n",
    ")\n",
    "plt.plot(\n",
    "    np.arange(2, 5),\n",
    "    [34.15019202232361, 81.15203189849854, 157.31651711463928],\n",
    "    '.-'\n",
    ")\n",
    "plt.plot(\n",
    "    np.arange(2, 14),\n",
    "    [1.0806846618652344, 2.0113892555236816, 3.056966781616211, 4.445823907852173, 6.978492021560669, 9.170605182647705, 12.007479906082153, 17.199953079223633, 23.510040998458862, 35.75929284095764, 68.48120307922363, 130.20919704437256],\n",
    "    '.-'\n",
    ")\n",
    "plt.plot(\n",
    "    np.arange(2, 12),\n",
    "    [0.38955020904541016, 0.5613417625427246, 0.7360739707946777, 0.9211061000823975, 1.1184780597686768, 1.4670140743255615, 2.197295904159546, 4.415586948394775, 14.712743043899536, 80.63775300979614],\n",
    "    '.-'\n",
    ")\n",
    "plt.plot(\n",
    "    np.arange(2, 20),\n",
    "    [0.014364242553710938, 0.016437053680419922, 0.025570154190063477, 0.02915215492248535, 0.036782264709472656, 0.050038814544677734, 0.06127214431762695, 0.07237792015075684, 0.0853269100189209, 0.12619900703430176, 0.2210390567779541, 0.40416693687438965, 0.709496021270752, 1.4257869720458984, 3.1304709911346436, 9.545304775238037, 22.091165781021118, 46.848978996276855],\n",
    "    '.-'\n",
    ")\n",
    "plt.plot(\n",
    "    np.arange(2, 20),\n",
    "    [0.00426483154296875, 0.0051882266998291016, 0.007730960845947266, 0.013195991516113281, 0.01037907600402832, 0.01190495491027832, 0.01484990119934082, 0.01844501495361328, 0.024294137954711914, 0.039817094802856445, 0.07553291320800781, 0.0956578254699707, 0.1903076171875, 0.3501279354095459, 0.7092928886413574, 2.1062841415405273, 5.404352903366089, 11.583475828170776],\n",
    "    '.-',\n",
    ")\n",
    "plt.plot(\n",
    "    np.arange(2, 20),\n",
    "    [0.003584146499633789, 0.00443720817565918, 0.006603717803955078, 0.011257410049438477, 0.009017467498779297, 0.010489702224731445, 0.01302790641784668, 0.016591787338256836, 0.022073984146118164, 0.037033796310424805, 0.07164120674133301, 0.09276533126831055, 0.18657326698303223, 0.34607601165771484, 0.7037882804870605, 2.094646453857422, 5.386331558227539, 11.556207180023193],\n",
    "    '.-',\n",
    ")\n",
    "plt.plot(\n",
    "    np.arange(2, 20),\n",
    "    [0.0046520233154296875, 0.011852025985717773, 0.01120615005493164, 0.006968975067138672, 0.01005697250366211, 0.011497020721435547, 0.01263117790222168, 0.017317771911621094, 0.02205371856689453, 0.031369924545288086, 0.06088876724243164, 0.11853194236755371, 0.2673170566558838, 0.4385390281677246, 0.8981561660766602, 2.9883079528808594, 7.627803802490234, 17.228317975997925],\n",
    "    '.-',\n",
    ")\n",
    "plt.plot(\n",
    "    np.arange(2, 13),\n",
    "    [0.14130878448486328, 0.16709399223327637, 0.2570180892944336, 0.30667734146118164, 0.4374258518218994, 1., 3., 9., 46., 183., 621.],\n",
    "    '.-'\n",
    ")\n",
    "plt.plot(\n",
    "    np.arange(2, 20),\n",
    "    [0.15650701522827148, 0.1413869857788086, 0.18457412719726562, 0.2631371021270752, 0.26929783821105957, 0.33814096450805664, 0.3703949451446533, 0.42498111724853516, 0.4644758701324463, 0.5217039585113525, 0.5982811450958252, 0.7350590229034424, 0.9454901218414307, 1.1823008060455322, 1.7560300827026367, 4.008991956710815, 11.834168195724487, 23.749961137771606],\n",
    "    '.-'\n",
    ")\n",
    "plt.semilogy()\n",
    "plt.legend([\n",
    "    'new',\n",
    "    'qaoa.grad_run',\n",
    "    'pennylane .jacobian',\n",
    "    'sample_grad',\n",
    "    'sample_grad_observable (u/c)',\n",
    "    'grad_run (uncompiled)',\n",
    "    'scratch (uncompiled)',\n",
    "    'matrix mult. time',\n",
    "    'scratch (compiled)',\n",
    "    'pennylane 0.3.1', \n",
    "    'pennylane 0.4.0'\n",
    "], bbox_to_anchor=(1.05, 1), borderaxespad=0.)\n",
    "plt.xlabel('Qubits')\n",
    "plt.ylabel('Runtime 100 layers [sec.]')\n",
    "plt.xticks(np.arange(2, 20))\n",
    "plt.grid(True)\n",
    "plt.show()"
   ]
  },
  {
   "cell_type": "code",
   "execution_count": 2,
   "metadata": {},
   "outputs": [
    {
     "name": "stdout",
     "output_type": "stream",
     "text": [
      "25118864\r"
     ]
    },
    {
     "ename": "KeyboardInterrupt",
     "evalue": "",
     "output_type": "error",
     "traceback": [
      "\u001b[0;31m---------------------------------------------------------------------------\u001b[0m",
      "\u001b[0;31mKeyboardInterrupt\u001b[0m                         Traceback (most recent call last)",
      "\u001b[0;32m<ipython-input-2-4540176c5bc2>\u001b[0m in \u001b[0;36m<module>\u001b[0;34m\u001b[0m\n\u001b[1;32m     14\u001b[0m     \u001b[0mprint\u001b[0m\u001b[0;34m(\u001b[0m\u001b[0ms\u001b[0m\u001b[0;34m,\u001b[0m \u001b[0mend\u001b[0m\u001b[0;34m=\u001b[0m\u001b[0;34m'\\r'\u001b[0m\u001b[0;34m)\u001b[0m\u001b[0;34m;\u001b[0m \u001b[0msys\u001b[0m\u001b[0;34m.\u001b[0m\u001b[0mstdout\u001b[0m\u001b[0;34m.\u001b[0m\u001b[0mflush\u001b[0m\u001b[0;34m(\u001b[0m\u001b[0;34m)\u001b[0m\u001b[0;34m\u001b[0m\u001b[0;34m\u001b[0m\u001b[0m\n\u001b[1;32m     15\u001b[0m     \u001b[0me1\u001b[0m\u001b[0;34m,\u001b[0m \u001b[0mg1\u001b[0m \u001b[0;34m=\u001b[0m \u001b[0mcrct\u001b[0m\u001b[0;34m.\u001b[0m\u001b[0mgrad_run\u001b[0m\u001b[0;34m(\u001b[0m\u001b[0;34m)\u001b[0m\u001b[0;34m\u001b[0m\u001b[0;34m\u001b[0m\u001b[0m\n\u001b[0;32m---> 16\u001b[0;31m     \u001b[0me2\u001b[0m\u001b[0;34m,\u001b[0m \u001b[0mg2\u001b[0m \u001b[0;34m=\u001b[0m \u001b[0mcrct\u001b[0m\u001b[0;34m.\u001b[0m\u001b[0msample_grad\u001b[0m\u001b[0;34m(\u001b[0m\u001b[0mshot_num\u001b[0m\u001b[0;34m=\u001b[0m\u001b[0ms\u001b[0m\u001b[0;34m,\u001b[0m \u001b[0mhide_progbar\u001b[0m\u001b[0;34m=\u001b[0m\u001b[0;32mTrue\u001b[0m\u001b[0;34m,\u001b[0m \u001b[0mexact_expec_val\u001b[0m\u001b[0;34m=\u001b[0m\u001b[0;32mFalse\u001b[0m\u001b[0;34m)\u001b[0m\u001b[0;34m\u001b[0m\u001b[0;34m\u001b[0m\u001b[0m\n\u001b[0m\u001b[1;32m     17\u001b[0m     \u001b[0mdiffs\u001b[0m\u001b[0;34m.\u001b[0m\u001b[0mappend\u001b[0m\u001b[0;34m(\u001b[0m\u001b[0mnp\u001b[0m\u001b[0;34m.\u001b[0m\u001b[0mlinalg\u001b[0m\u001b[0;34m.\u001b[0m\u001b[0mnorm\u001b[0m\u001b[0;34m(\u001b[0m\u001b[0mg1\u001b[0m\u001b[0;34m.\u001b[0m\u001b[0mflatten\u001b[0m\u001b[0;34m(\u001b[0m\u001b[0;34m)\u001b[0m \u001b[0;34m-\u001b[0m \u001b[0mg2\u001b[0m\u001b[0;34m.\u001b[0m\u001b[0mflatten\u001b[0m\u001b[0;34m(\u001b[0m\u001b[0;34m)\u001b[0m\u001b[0;34m)\u001b[0m\u001b[0;34m)\u001b[0m\u001b[0;34m\u001b[0m\u001b[0;34m\u001b[0m\u001b[0m\n\u001b[1;32m     18\u001b[0m     \u001b[0mdiffs2\u001b[0m\u001b[0;34m.\u001b[0m\u001b[0mappend\u001b[0m\u001b[0;34m(\u001b[0m\u001b[0mnp\u001b[0m\u001b[0;34m.\u001b[0m\u001b[0mabs\u001b[0m\u001b[0;34m(\u001b[0m\u001b[0me2\u001b[0m \u001b[0;34m-\u001b[0m \u001b[0me1\u001b[0m\u001b[0;34m)\u001b[0m\u001b[0;34m)\u001b[0m\u001b[0;34m\u001b[0m\u001b[0;34m\u001b[0m\u001b[0m\n",
      "\u001b[0;32m~/Documents/fu/phd/qradient/qradient/circuit_logic.py\u001b[0m in \u001b[0;36msample_grad\u001b[0;34m(self, hide_progbar, shot_num, exact_expec_val, ini_state)\u001b[0m\n\u001b[1;32m    160\u001b[0m                     \u001b[0;32mfor\u001b[0m \u001b[0mq\u001b[0m \u001b[0;32min\u001b[0m \u001b[0mqrange\u001b[0m\u001b[0;34m:\u001b[0m\u001b[0;34m\u001b[0m\u001b[0;34m\u001b[0m\u001b[0m\n\u001b[1;32m    161\u001b[0m                         \u001b[0mself\u001b[0m\u001b[0;34m.\u001b[0m\u001b[0m__rot\u001b[0m\u001b[0;34m(\u001b[0m\u001b[0mj\u001b[0m\u001b[0;34m,\u001b[0m \u001b[0mq\u001b[0m\u001b[0;34m)\u001b[0m\u001b[0;34m\u001b[0m\u001b[0;34m\u001b[0m\u001b[0m\n\u001b[0;32m--> 162\u001b[0;31m                 \u001b[0mo_minus\u001b[0m \u001b[0;34m=\u001b[0m \u001b[0mself\u001b[0m\u001b[0;34m.\u001b[0m\u001b[0msample_expec_val\u001b[0m\u001b[0;34m(\u001b[0m\u001b[0mshot_num\u001b[0m\u001b[0;34m)\u001b[0m\u001b[0;34m\u001b[0m\u001b[0;34m\u001b[0m\u001b[0m\n\u001b[0m\u001b[1;32m    163\u001b[0m                 \u001b[0mgrad\u001b[0m\u001b[0;34m[\u001b[0m\u001b[0mi\u001b[0m\u001b[0;34m,\u001b[0m \u001b[0mdq\u001b[0m\u001b[0;34m]\u001b[0m \u001b[0;34m=\u001b[0m \u001b[0;36m.5\u001b[0m \u001b[0;34m*\u001b[0m \u001b[0;34m(\u001b[0m\u001b[0mo_plus\u001b[0m \u001b[0;34m-\u001b[0m \u001b[0mo_minus\u001b[0m\u001b[0;34m)\u001b[0m\u001b[0;34m\u001b[0m\u001b[0;34m\u001b[0m\u001b[0m\n\u001b[1;32m    164\u001b[0m         \u001b[0;32mreturn\u001b[0m \u001b[0mexpec_val\u001b[0m\u001b[0;34m,\u001b[0m \u001b[0mgrad\u001b[0m\u001b[0;34m\u001b[0m\u001b[0;34m\u001b[0m\u001b[0m\n",
      "\u001b[0;32m~/Documents/fu/phd/qradient/qradient/circuit_logic.py\u001b[0m in \u001b[0;36msample_expec_val\u001b[0;34m(self, shot_num)\u001b[0m\n\u001b[1;32m     44\u001b[0m             \u001b[0mweight\u001b[0m \u001b[0;34m=\u001b[0m \u001b[0mself\u001b[0m\u001b[0;34m.\u001b[0m\u001b[0mobservable\u001b[0m\u001b[0;34m.\u001b[0m\u001b[0mprojector_weights\u001b[0m\u001b[0;34m[\u001b[0m\u001b[0mi\u001b[0m\u001b[0;34m]\u001b[0m\u001b[0;34m\u001b[0m\u001b[0;34m\u001b[0m\u001b[0m\n\u001b[1;32m     45\u001b[0m             \u001b[0mrnd_var\u001b[0m \u001b[0;34m=\u001b[0m \u001b[0mstats\u001b[0m\u001b[0;34m.\u001b[0m\u001b[0mrv_discrete\u001b[0m\u001b[0;34m(\u001b[0m\u001b[0mvalues\u001b[0m\u001b[0;34m=\u001b[0m\u001b[0;34m(\u001b[0m\u001b[0;34m[\u001b[0m\u001b[0;36m0\u001b[0m\u001b[0;34m,\u001b[0m \u001b[0;36m1\u001b[0m\u001b[0;34m]\u001b[0m\u001b[0;34m,\u001b[0m \u001b[0;34m[\u001b[0m\u001b[0mprob\u001b[0m\u001b[0;34m,\u001b[0m \u001b[0;36m1\u001b[0m\u001b[0;34m-\u001b[0m\u001b[0mprob\u001b[0m\u001b[0;34m]\u001b[0m\u001b[0;34m)\u001b[0m\u001b[0;34m)\u001b[0m\u001b[0;34m\u001b[0m\u001b[0;34m\u001b[0m\u001b[0m\n\u001b[0;32m---> 46\u001b[0;31m             \u001b[0msamples\u001b[0m \u001b[0;34m=\u001b[0m \u001b[0mnp\u001b[0m\u001b[0;34m.\u001b[0m\u001b[0marray\u001b[0m\u001b[0;34m(\u001b[0m\u001b[0;34m[\u001b[0m\u001b[0mweight\u001b[0m\u001b[0;34m,\u001b[0m \u001b[0;34m-\u001b[0m\u001b[0mweight\u001b[0m\u001b[0;34m]\u001b[0m\u001b[0;34m)\u001b[0m\u001b[0;34m[\u001b[0m\u001b[0mrnd_var\u001b[0m\u001b[0;34m.\u001b[0m\u001b[0mrvs\u001b[0m\u001b[0;34m(\u001b[0m\u001b[0msize\u001b[0m\u001b[0;34m=\u001b[0m\u001b[0mshot_num\u001b[0m\u001b[0;34m)\u001b[0m\u001b[0;34m]\u001b[0m\u001b[0;34m\u001b[0m\u001b[0;34m\u001b[0m\u001b[0m\n\u001b[0m\u001b[1;32m     47\u001b[0m             \u001b[0mexpec_val\u001b[0m \u001b[0;34m+=\u001b[0m \u001b[0msamples\u001b[0m\u001b[0;34m.\u001b[0m\u001b[0mmean\u001b[0m\u001b[0;34m(\u001b[0m\u001b[0;34m)\u001b[0m\u001b[0;34m\u001b[0m\u001b[0;34m\u001b[0m\u001b[0m\n\u001b[1;32m     48\u001b[0m         \u001b[0;32mreturn\u001b[0m \u001b[0mexpec_val\u001b[0m\u001b[0;34m\u001b[0m\u001b[0;34m\u001b[0m\u001b[0m\n",
      "\u001b[0;32m~/Documents/fu/phd/qradient/venv/lib/python3.7/site-packages/scipy/stats/_distn_infrastructure.py\u001b[0m in \u001b[0;36mrvs\u001b[0;34m(self, *args, **kwargs)\u001b[0m\n\u001b[1;32m   2917\u001b[0m         \"\"\"\n\u001b[1;32m   2918\u001b[0m         \u001b[0mkwargs\u001b[0m\u001b[0;34m[\u001b[0m\u001b[0;34m'discrete'\u001b[0m\u001b[0;34m]\u001b[0m \u001b[0;34m=\u001b[0m \u001b[0;32mTrue\u001b[0m\u001b[0;34m\u001b[0m\u001b[0;34m\u001b[0m\u001b[0m\n\u001b[0;32m-> 2919\u001b[0;31m         \u001b[0;32mreturn\u001b[0m \u001b[0msuper\u001b[0m\u001b[0;34m(\u001b[0m\u001b[0mrv_discrete\u001b[0m\u001b[0;34m,\u001b[0m \u001b[0mself\u001b[0m\u001b[0;34m)\u001b[0m\u001b[0;34m.\u001b[0m\u001b[0mrvs\u001b[0m\u001b[0;34m(\u001b[0m\u001b[0;34m*\u001b[0m\u001b[0margs\u001b[0m\u001b[0;34m,\u001b[0m \u001b[0;34m**\u001b[0m\u001b[0mkwargs\u001b[0m\u001b[0;34m)\u001b[0m\u001b[0;34m\u001b[0m\u001b[0;34m\u001b[0m\u001b[0m\n\u001b[0m\u001b[1;32m   2920\u001b[0m \u001b[0;34m\u001b[0m\u001b[0m\n\u001b[1;32m   2921\u001b[0m     \u001b[0;32mdef\u001b[0m \u001b[0mpmf\u001b[0m\u001b[0;34m(\u001b[0m\u001b[0mself\u001b[0m\u001b[0;34m,\u001b[0m \u001b[0mk\u001b[0m\u001b[0;34m,\u001b[0m \u001b[0;34m*\u001b[0m\u001b[0margs\u001b[0m\u001b[0;34m,\u001b[0m \u001b[0;34m**\u001b[0m\u001b[0mkwds\u001b[0m\u001b[0;34m)\u001b[0m\u001b[0;34m:\u001b[0m\u001b[0;34m\u001b[0m\u001b[0;34m\u001b[0m\u001b[0m\n",
      "\u001b[0;32m~/Documents/fu/phd/qradient/venv/lib/python3.7/site-packages/scipy/stats/_distn_infrastructure.py\u001b[0m in \u001b[0;36mrvs\u001b[0;34m(self, *args, **kwds)\u001b[0m\n\u001b[1;32m    974\u001b[0m         \u001b[0;31m# by _rvs().\u001b[0m\u001b[0;34m\u001b[0m\u001b[0;34m\u001b[0m\u001b[0;34m\u001b[0m\u001b[0m\n\u001b[1;32m    975\u001b[0m         \u001b[0mself\u001b[0m\u001b[0;34m.\u001b[0m\u001b[0m_size\u001b[0m \u001b[0;34m=\u001b[0m \u001b[0msize\u001b[0m\u001b[0;34m\u001b[0m\u001b[0;34m\u001b[0m\u001b[0m\n\u001b[0;32m--> 976\u001b[0;31m         \u001b[0mvals\u001b[0m \u001b[0;34m=\u001b[0m \u001b[0mself\u001b[0m\u001b[0;34m.\u001b[0m\u001b[0m_rvs\u001b[0m\u001b[0;34m(\u001b[0m\u001b[0;34m*\u001b[0m\u001b[0margs\u001b[0m\u001b[0;34m)\u001b[0m\u001b[0;34m\u001b[0m\u001b[0;34m\u001b[0m\u001b[0m\n\u001b[0m\u001b[1;32m    977\u001b[0m \u001b[0;34m\u001b[0m\u001b[0m\n\u001b[1;32m    978\u001b[0m         \u001b[0mvals\u001b[0m \u001b[0;34m=\u001b[0m \u001b[0mvals\u001b[0m \u001b[0;34m*\u001b[0m \u001b[0mscale\u001b[0m \u001b[0;34m+\u001b[0m \u001b[0mloc\u001b[0m\u001b[0;34m\u001b[0m\u001b[0;34m\u001b[0m\u001b[0m\n",
      "\u001b[0;32m~/Documents/fu/phd/qradient/venv/lib/python3.7/site-packages/scipy/stats/_distn_infrastructure.py\u001b[0m in \u001b[0;36m_rvs\u001b[0;34m(self)\u001b[0m\n\u001b[1;32m   3504\u001b[0m             \u001b[0mY\u001b[0m \u001b[0;34m=\u001b[0m \u001b[0mself\u001b[0m\u001b[0;34m.\u001b[0m\u001b[0m_ppf\u001b[0m\u001b[0;34m(\u001b[0m\u001b[0mU\u001b[0m\u001b[0;34m)\u001b[0m\u001b[0;34m[\u001b[0m\u001b[0;36m0\u001b[0m\u001b[0;34m]\u001b[0m\u001b[0;34m\u001b[0m\u001b[0;34m\u001b[0m\u001b[0m\n\u001b[1;32m   3505\u001b[0m         \u001b[0;32melse\u001b[0m\u001b[0;34m:\u001b[0m\u001b[0;34m\u001b[0m\u001b[0;34m\u001b[0m\u001b[0m\n\u001b[0;32m-> 3506\u001b[0;31m             \u001b[0mY\u001b[0m \u001b[0;34m=\u001b[0m \u001b[0mself\u001b[0m\u001b[0;34m.\u001b[0m\u001b[0m_ppf\u001b[0m\u001b[0;34m(\u001b[0m\u001b[0mU\u001b[0m\u001b[0;34m)\u001b[0m\u001b[0;34m\u001b[0m\u001b[0;34m\u001b[0m\u001b[0m\n\u001b[0m\u001b[1;32m   3507\u001b[0m         \u001b[0;32mreturn\u001b[0m \u001b[0mY\u001b[0m\u001b[0;34m\u001b[0m\u001b[0;34m\u001b[0m\u001b[0m\n\u001b[1;32m   3508\u001b[0m \u001b[0;34m\u001b[0m\u001b[0m\n",
      "\u001b[0;32m~/Documents/fu/phd/qradient/venv/lib/python3.7/site-packages/scipy/stats/_distn_infrastructure.py\u001b[0m in \u001b[0;36m_ppf\u001b[0;34m(self, q)\u001b[0m\n\u001b[1;32m   3493\u001b[0m     \u001b[0;32mdef\u001b[0m \u001b[0m_ppf\u001b[0m\u001b[0;34m(\u001b[0m\u001b[0mself\u001b[0m\u001b[0;34m,\u001b[0m \u001b[0mq\u001b[0m\u001b[0;34m)\u001b[0m\u001b[0;34m:\u001b[0m\u001b[0;34m\u001b[0m\u001b[0;34m\u001b[0m\u001b[0m\n\u001b[1;32m   3494\u001b[0m         \u001b[0mqq\u001b[0m\u001b[0;34m,\u001b[0m \u001b[0msqq\u001b[0m \u001b[0;34m=\u001b[0m \u001b[0mnp\u001b[0m\u001b[0;34m.\u001b[0m\u001b[0mbroadcast_arrays\u001b[0m\u001b[0;34m(\u001b[0m\u001b[0mq\u001b[0m\u001b[0;34m[\u001b[0m\u001b[0;34m...\u001b[0m\u001b[0;34m,\u001b[0m \u001b[0;32mNone\u001b[0m\u001b[0;34m]\u001b[0m\u001b[0;34m,\u001b[0m \u001b[0mself\u001b[0m\u001b[0;34m.\u001b[0m\u001b[0mqvals\u001b[0m\u001b[0;34m)\u001b[0m\u001b[0;34m\u001b[0m\u001b[0;34m\u001b[0m\u001b[0m\n\u001b[0;32m-> 3495\u001b[0;31m         \u001b[0mindx\u001b[0m \u001b[0;34m=\u001b[0m \u001b[0margmax\u001b[0m\u001b[0;34m(\u001b[0m\u001b[0msqq\u001b[0m \u001b[0;34m>=\u001b[0m \u001b[0mqq\u001b[0m\u001b[0;34m,\u001b[0m \u001b[0maxis\u001b[0m\u001b[0;34m=\u001b[0m\u001b[0;34m-\u001b[0m\u001b[0;36m1\u001b[0m\u001b[0;34m)\u001b[0m\u001b[0;34m\u001b[0m\u001b[0;34m\u001b[0m\u001b[0m\n\u001b[0m\u001b[1;32m   3496\u001b[0m         \u001b[0;32mreturn\u001b[0m \u001b[0mself\u001b[0m\u001b[0;34m.\u001b[0m\u001b[0mxk\u001b[0m\u001b[0;34m[\u001b[0m\u001b[0mindx\u001b[0m\u001b[0;34m]\u001b[0m\u001b[0;34m\u001b[0m\u001b[0;34m\u001b[0m\u001b[0m\n\u001b[1;32m   3497\u001b[0m \u001b[0;34m\u001b[0m\u001b[0m\n",
      "\u001b[0;31mKeyboardInterrupt\u001b[0m: "
     ]
    }
   ],
   "source": [
    "qnum, lnum = 2, 1\n",
    "zz = np.full([qnum, qnum], None)\n",
    "for i in range(qnum):\n",
    "    for j in range(i+1, qnum):\n",
    "        zz[i, j] = np.random.rand()\n",
    "x = np.random.rand(qnum)\n",
    "y = np.random.rand(qnum)\n",
    "z = np.random.rand(qnum)\n",
    "observable = {'x': x, 'y': y, 'z': z, 'zz': zz}\n",
    "crct = qradient.circuit_logic.McClean(qnum, observable, lnum)\n",
    "shots = (10**np.arange(1, 8, .1)).astype('int')\n",
    "diffs, diffs2 = [], []\n",
    "for s in shots:\n",
    "    print(s, end='\\r'); sys.stdout.flush()\n",
    "    e1, g1 = crct.grad_run()\n",
    "    e2, g2 = crct.sample_grad(shot_num=s, hide_progbar=True, exact_expec_val=False)\n",
    "    diffs.append(np.linalg.norm(g1.flatten() - g2.flatten()))\n",
    "    diffs2.append(np.abs(e2 - e1))\n",
    "plt.plot(shots, diffs, '.-')\n",
    "plt.plot(shots, diffs2, '.-')\n",
    "plt.loglog()\n",
    "plt.show()"
   ]
  },
  {
   "cell_type": "code",
   "execution_count": 4,
   "metadata": {},
   "outputs": [
    {
     "data": {
      "image/png": "[encoded data removed]",
      "text/plain": [
       "<Figure size 432x288 with 1 Axes>"
      ]
     },
     "metadata": {
      "needs_background": "light"
     },
     "output_type": "display_data"
    }
   ],
   "source": [
    "plt.plot(shots[:len(diffs)], diffs, '.-')\n",
    "plt.plot(shots[:len(diffs2)], diffs2, '.-')\n",
    "plt.loglog()\n",
    "plt.show()"
   ]
  },
  {
   "cell_type": "markdown",
   "metadata": {},
   "source": [
    "## Barren plateus"
   ]
  },
  {
   "cell_type": "code",
   "execution_count": null,
   "metadata": {},
   "outputs": [],
   "source": [
    "variances = []\n",
    "var_mins = []\n",
    "var_maxs = []\n",
    "snum = 100\n",
    "qnums = np.arange(2, 11, 2)\n",
    "for qnum in qnums:\n",
    "    print(qnum, end='\\r')\n",
    "    sys.stdout.flush()\n",
    "    lnum = 100\n",
    "    zz = np.full((qnum, qnum), None)\n",
    "    zz[0, 1] = 1.\n",
    "    crct = qradient.circuit_logic.McClean(qnum, {'zz': zz}, lnum)\n",
    "    axes = (3 * np.random.rand(snum, lnum, qnum)).astype('int')\n",
    "    angles = 2*np.pi * np.random.rand(snum, lnum, qnum)\n",
    "    expectations = []\n",
    "    for i in tnrange(snum):\n",
    "        crct.axes = axes[i]\n",
    "        crct.angles = angles[i]\n",
    "        _, g = crct.grad_run(hide_progbar=True)\n",
    "        expectations.append(g[0,0])\n",
    "    v = stats.bayes_mvs(expectations)[1]\n",
    "    variances.append(v[0])\n",
    "    var_mins.append(v[1][0])\n",
    "    var_maxs.append(v[1][1])"
   ]
  },
  {
   "cell_type": "code",
   "execution_count": null,
   "metadata": {},
   "outputs": [],
   "source": [
    "reg = stats.linregress(qnums, np.log(np.array(variances)))\n",
    "print(\"Slope = {}\".format(reg[0]))\n",
    "abscissa = np.arange(min(qnums), max(qnums)+.1, .1)\n",
    "plt.plot(abscissa, np.exp(reg[0]*abscissa + np.full(len(abscissa), reg[1])), 'r--')\n",
    "plt.errorbar(\n",
    "            qnums,\n",
    "            variances,\n",
    "            yerr=[var_mins, var_maxs],\n",
    "            marker=\".\"\n",
    ")\n",
    "plt.semilogy()\n",
    "plt.show()"
   ]
  },
  {
   "cell_type": "code",
   "execution_count": null,
   "metadata": {},
   "outputs": [],
   "source": []
  }
 ],
 "metadata": {
  "kernelspec": {
   "display_name": "Python 3",
   "language": "python",
   "name": "python3"
  },
  "language_info": {
   "codemirror_mode": {
    "name": "ipython",
    "version": 3
   },
   "file_extension": ".py",
   "mimetype": "text/x-python",
   "name": "python",
   "nbconvert_exporter": "python",
   "pygments_lexer": "ipython3",
   "version": "3.7.2"
  }
 },
 "nbformat": 4,
 "nbformat_minor": 2
}
