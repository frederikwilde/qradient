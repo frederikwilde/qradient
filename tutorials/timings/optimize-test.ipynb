{
 "cells": [
  {
   "cell_type": "code",
   "execution_count": null,
   "metadata": {},
   "outputs": [],
   "source": [
    "%matplotlib inline\n",
    "from importlib import reload\n",
    "import scipy.sparse as sp\n",
    "from scipy import stats\n",
    "import numpy as np\n",
    "from time import time\n",
    "from tqdm import tqdm_notebook, tnrange\n",
    "from matplotlib import gridspec\n",
    "import sys\n",
    "sys.path.append('../../')\n",
    "import gc\n",
    "import matplotlib.pyplot as plt\n",
    "import qradient\n",
    "from qradient.physical_components import Gates, State\n",
    "from qradient.circuit_logic import McClean\n",
    "from qradient import optimization\n",
    "reload(qradient.optimization)\n",
    "reload(qradient.circuit_logic)\n",
    "reload(qradient.physical_components)\n",
    "p = np.pi"
   ]
  },
  {
   "cell_type": "code",
   "execution_count": null,
   "metadata": {},
   "outputs": [],
   "source": [
    "qnum, lnum = 3, 10\n",
    "# construct observable\n",
    "x = np.full(qnum, 1.)\n",
    "zz = np.full([qnum, qnum], None)\n",
    "for i in range(qnum-1):\n",
    "    zz[i, i+1] = 1.\n",
    "observable = {'x': x, 'zz': zz}\n",
    "\n",
    "# construct circuit\n",
    "crct = qradient.circuit_logic.McClean(qnum, observable, lnum)\n",
    "eigvals, eigvecs = sp.linalg.eigsh(crct.observable.matrix, k=2, which='SA')\n",
    "\n",
    "# construct optimizer\n",
    "opt_info = {'name': 'GradientDescent'}\n",
    "opt = optimization.McCleanOpt(crct, opt_info)\n",
    "\n",
    "def plot_costs(costs):\n",
    "    for cost in costs:\n",
    "        plt.plot(cost)\n",
    "    plt.plot([0, steps], [m, m], '--')\n",
    "    plt.ylim(bottom=m-.5)"
   ]
  },
  {
   "cell_type": "code",
   "execution_count": null,
   "metadata": {},
   "outputs": [],
   "source": [
    "# TEST that sample grad yields the correct values in the limit of large shot_num\n",
    "e, g = crct.grad_run()\n",
    "sample_errors_e = []\n",
    "sample_errors_g = []\n",
    "sample_errors_g_obs = []\n",
    "shot_numbers = (10**np.arange(0., 6., .5)).astype('int')\n",
    "for i in tnrange(len(shot_numbers)):\n",
    "    s = shot_numbers[i]\n",
    "    sample_e, sample_g = crct.sample_grad(shot_num=s, exact_expec_val=False)\n",
    "    sample_errors_e.append(np.abs(sample_e - e))\n",
    "    sample_errors_g.append(np.linalg.norm((sample_g - g).flatten()))\n",
    "plt.plot(shot_numbers, sample_errors_e)\n",
    "plt.plot(shot_numbers, sample_errors_g)\n",
    "plt.loglog()\n",
    "plt.show()"
   ]
  },
  {
   "cell_type": "code",
   "execution_count": null,
   "metadata": {},
   "outputs": [],
   "source": [
    "costs = []\n",
    "opt_info = {'name': 'GradientDescent'}\n",
    "opt.reset(optimizer=opt_info)\n",
    "steps, m = 500, eigvals[0]\n",
    "for _ in tnrange(steps):\n",
    "    opt.step()\n",
    "costs.append(opt.cost_history[:steps])\n",
    "    \n",
    "opt_info = {'name': 'Adam', 'step_size': .1}\n",
    "opt.reset(optimizer=opt_info)\n",
    "for _ in tnrange(steps):\n",
    "    opt.step()\n",
    "costs.append(opt.cost_history[:steps])\n",
    " \n",
    "step_sizes = [.01]\n",
    "for s in step_sizes:\n",
    "    opt_info = {'name': 'GradientDescent', 'step_size': s}#, 'beta1': .9}\n",
    "    opt.reset(optimizer=opt_info)\n",
    "    for _ in tnrange(steps):\n",
    "        opt.step(shot_num=5)\n",
    "    costs.append(opt.cost_history[:steps])"
   ]
  },
  {
   "cell_type": "code",
   "execution_count": null,
   "metadata": {},
   "outputs": [],
   "source": [
    "legend = ['GD exact', 'Adam exact']\n",
    "for s in step_sizes:\n",
    "    legend.append('Adam stoch. step_size=' + str(s))\n",
    "legend.append('minimum')\n",
    "\n",
    "plot_costs(costs)\n",
    "plt.legend(legend, bbox_to_anchor=(1.05, 1), borderaxespad=0.)\n",
    "plt.show()"
   ]
  },
  {
   "cell_type": "code",
   "execution_count": null,
   "metadata": {},
   "outputs": [],
   "source": []
  }
 ],
 "metadata": {
  "kernelspec": {
   "display_name": "Python 3",
   "language": "python",
   "name": "python3"
  },
  "language_info": {
   "codemirror_mode": {
    "name": "ipython",
    "version": 3
   },
   "file_extension": ".py",
   "mimetype": "text/x-python",
   "name": "python",
   "nbconvert_exporter": "python",
   "pygments_lexer": "ipython3",
   "version": "3.7.2"
  }
 },
 "nbformat": 4,
 "nbformat_minor": 2
}
