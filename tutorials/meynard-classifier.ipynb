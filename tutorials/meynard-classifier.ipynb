{
 "cells": [
  {
   "cell_type": "code",
   "execution_count": 1,
   "metadata": {},
   "outputs": [],
   "source": [
    "%matplotlib inline\n",
    "import sys\n",
    "sys.path.append('../')\n",
    "from qradient.circuit_logic import MeynardClassifier\n",
    "import numpy as np"
   ]
  },
  {
   "cell_type": "code",
   "execution_count": 2,
   "metadata": {},
   "outputs": [],
   "source": [
    "qubits = 5\n",
    "encoding_layers = 5\n",
    "classifying_layers = 5"
   ]
  },
  {
   "cell_type": "markdown",
   "metadata": {},
   "source": [
    "Instantiate the circuit."
   ]
  },
  {
   "cell_type": "code",
   "execution_count": 3,
   "metadata": {},
   "outputs": [],
   "source": [
    "circuit = MeynardClassifier(qubits, encoding_layers, classifying_layers)"
   ]
  },
  {
   "cell_type": "markdown",
   "metadata": {},
   "source": [
    "Its main attribute is the ```state```, which itself contains the state vector and gates that can be applied to the state."
   ]
  },
  {
   "cell_type": "code",
   "execution_count": 4,
   "metadata": {},
   "outputs": [
    {
     "name": "stdout",
     "output_type": "stream",
     "text": [
      "<qradient.physical_components.State object at 0x104e903c8>\n",
      "[1.+0.j 0.+0.j 0.+0.j 0.+0.j 0.+0.j 0.+0.j 0.+0.j 0.+0.j 0.+0.j 0.+0.j\n",
      " 0.+0.j 0.+0.j 0.+0.j 0.+0.j 0.+0.j 0.+0.j 0.+0.j 0.+0.j 0.+0.j 0.+0.j\n",
      " 0.+0.j 0.+0.j 0.+0.j 0.+0.j 0.+0.j 0.+0.j 0.+0.j 0.+0.j 0.+0.j 0.+0.j\n",
      " 0.+0.j 0.+0.j]\n",
      "<qradient.physical_components.Gates object at 0x11c1c1b38>\n"
     ]
    }
   ],
   "source": [
    "print(circuit.state)\n",
    "print(circuit.state.vec)\n",
    "print(circuit.state.gates)"
   ]
  },
  {
   "cell_type": "markdown",
   "metadata": {},
   "source": [
    "Let's create some artificial data and some artificial weights (or angles for that matter). The angles are rank-3 tensors. The first one corresponding to the layer, the second one to the qubit, and the third to the axis we want to rotate about."
   ]
  },
  {
   "cell_type": "code",
   "execution_count": 5,
   "metadata": {},
   "outputs": [],
   "source": [
    "data = np.random.rand(encoding_layers, qubits)\n",
    "encoding_angles = np.random.rand(encoding_layers, qubits, 2)\n",
    "classifying_angles = np.random.rand(classifying_layers, qubits, 3)"
   ]
  },
  {
   "cell_type": "markdown",
   "metadata": {},
   "source": [
    "For instance ```encoding_angles[0, 1, 0]``` is the angle for the $y$-rotation on the second qubit in the first layer. The $x$-rotations in the encoding part are done with the data.\n",
    "\n",
    "Similarly, ```classifying_angles[2, 0, 2]``` is the angle for the $z$-rotation on the first qubit in the third layer."
   ]
  },
  {
   "cell_type": "markdown",
   "metadata": {},
   "source": [
    "# Expectation values"
   ]
  },
  {
   "cell_type": "markdown",
   "metadata": {},
   "source": [
    "To get the expectation value we first have to run the circuit with the chosen parameters and then call the ```expec_val``` method."
   ]
  },
  {
   "cell_type": "code",
   "execution_count": 6,
   "metadata": {
    "scrolled": true
   },
   "outputs": [
    {
     "data": {
      "text/plain": [
       "-0.3066767588745724"
      ]
     },
     "execution_count": 6,
     "metadata": {},
     "output_type": "execute_result"
    }
   ],
   "source": [
    "circuit.run(data, encoding_angles, classifying_angles)\n",
    "circuit.expec_val()"
   ]
  },
  {
   "cell_type": "markdown",
   "metadata": {},
   "source": [
    "# Gradients"
   ]
  },
  {
   "cell_type": "markdown",
   "metadata": {},
   "source": [
    "If we are interested in the gradient we can simply call the ```grad_run``` method. No ```run``` is required before calling it."
   ]
  },
  {
   "cell_type": "code",
   "execution_count": 7,
   "metadata": {},
   "outputs": [
    {
     "name": "stdout",
     "output_type": "stream",
     "text": [
      "Expectation value: -0.30667675887457224\n",
      "Shape of the encoding_angles gradient: (5, 5, 2)\n",
      "Shape of the classifying_angles gradient: (5, 5, 3)\n"
     ]
    }
   ],
   "source": [
    "e, enc_grad, class_grad = circuit.grad_run(data, encoding_angles, classifying_angles)\n",
    "print('Expectation value: {}'.format(e))\n",
    "print('Shape of the encoding_angles gradient: {}'.format(enc_grad.shape))\n",
    "print('Shape of the classifying_angles gradient: {}'.format(class_grad.shape))"
   ]
  },
  {
   "cell_type": "markdown",
   "metadata": {},
   "source": [
    "# Timing"
   ]
  },
  {
   "cell_type": "code",
   "execution_count": 8,
   "metadata": {},
   "outputs": [],
   "source": [
    "import matplotlib.pyplot as plt\n",
    "from time import time\n",
    "def timing(f, *args):\n",
    "    '''A convenient timing function.'''\n",
    "    t1 = time()\n",
    "    out = f(*args)\n",
    "    t2 = time()\n",
    "    return t2-t1, out"
   ]
  },
  {
   "cell_type": "markdown",
   "metadata": {},
   "source": [
    "With the code below you can time the ```grad_run``` method on your machine."
   ]
  },
  {
   "cell_type": "code",
   "execution_count": 10,
   "metadata": {},
   "outputs": [
    {
     "name": "stdout",
     "output_type": "stream",
     "text": [
      "14\r"
     ]
    }
   ],
   "source": [
    "qubit_range = range(2, 21)\n",
    "times = []\n",
    "for q in qubit_range:\n",
    "    print(q, end='\\r');\n",
    "    data = np.random.rand(encoding_layers, q)\n",
    "    encoding_angles = np.random.rand(encoding_layers, q, 2)\n",
    "    classifying_angles = np.random.rand(classifying_layers, q, 3)\n",
    "    circuit = MeynardClassifier(q, encoding_layers, classifying_layers)\n",
    "    t, _ = timing(circuit.grad_run, data, encoding_angles, classifying_angles)\n",
    "    times.append(t)"
   ]
  },
  {
   "cell_type": "code",
   "execution_count": 74,
   "metadata": {},
   "outputs": [
    {
     "data": {
      "image/png": "[encoded data removed]",
      "text/plain": [
       "<Figure size 432x288 with 1 Axes>"
      ]
     },
     "metadata": {
      "needs_background": "light"
     },
     "output_type": "display_data"
    }
   ],
   "source": [
    "plt.plot(qubit_range, times, '.-')\n",
    "plt.grid(True)\n",
    "plt.semilogy()\n",
    "plt.xlabel('Number of qubits')\n",
    "plt.ylabel('Time for one gradient [sec.]')\n",
    "plt.title('5 encoding layers, 5 classifying layers')\n",
    "plt.xticks(qubit_range)\n",
    "plt.show()"
   ]
  },
  {
   "cell_type": "code",
   "execution_count": null,
   "metadata": {},
   "outputs": [],
   "source": []
  }
 ],
 "metadata": {
  "kernelspec": {
   "display_name": "Python 3",
   "language": "python",
   "name": "python3"
  },
  "language_info": {
   "codemirror_mode": {
    "name": "ipython",
    "version": 3
   },
   "file_extension": ".py",
   "mimetype": "text/x-python",
   "name": "python",
   "nbconvert_exporter": "python",
   "pygments_lexer": "ipython3",
   "version": "3.7.2"
  }
 },
 "nbformat": 4,
 "nbformat_minor": 2
}
